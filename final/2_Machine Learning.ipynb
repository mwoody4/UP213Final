{
 "cells": [
  {
   "cell_type": "markdown",
   "id": "22dd712f-3040-4717-aaa6-e2829dd7c47b",
   "metadata": {},
   "source": [
    "Meaghan Woody\n",
    "UP 213\n",
    "Spring 2025"
   ]
  },
  {
   "cell_type": "markdown",
   "id": "1d82678d-2c3d-44df-889e-cca7a6824d7b",
   "metadata": {},
   "source": [
    "### What are the most important predictors of SNAP underenrollment for LA County and for each SPA?"
   ]
  },
  {
   "cell_type": "markdown",
   "id": "f5b6fcbf-0a1d-44db-8362-4d2ab7abe0c6",
   "metadata": {},
   "source": [
    "American Community Survey 2023\n",
    "\n",
    "All the predictors: https://api.census.gov/data/2023/acs/acs5/variables.html\n",
    "\n",
    "% Households Below 200% FPL\n",
    "\n",
    "Poverty Rate\n",
    "\n",
    "Median Household Income\n",
    "\n",
    "% Unemployed\n",
    "\n",
    "% Households with Children\n",
    "\n",
    "% Single-Parent Households\n",
    "\n",
    "% With No High School Diploma\n",
    "\n",
    "% Limited English Proficiency (LEP)\n",
    "\n",
    "% Foreign-Born / Non-Citizens\n",
    "\n",
    "% Renters\n",
    "\n",
    "% Households Without a Vehicle\n",
    "\n",
    "% Disabled Population\n",
    "\n",
    "% Elderly Living Alone\n",
    "\n",
    "% Latino\n",
    "\n",
    "% Black\n"
   ]
  },
  {
   "cell_type": "code",
   "execution_count": null,
   "id": "3714e401-d0af-4bf0-8d84-7f31e3425cb9",
   "metadata": {},
   "outputs": [],
   "source": [
    "import json\n",
    "import requests\n",
    "import pandas as pd\n",
    "\n",
    "r = requests.get('https://api.census.gov/data/2023/acs/acs5?get=B22003_001E&B17017_002E&B22003_002E&B22003_003E&B22003_005E&B22003_006E&for=tract:*&in=state:06%20county:037')\n",
    "predictors = r.json()\n",
    "predictors = pd.DataFrame(censusdata[1:], columns=censusdata[0])\n",
    "predictors.head()"
   ]
  }
 ],
 "metadata": {
  "kernelspec": {
   "display_name": "Python [conda env:base] *",
   "language": "python",
   "name": "conda-base-py"
  },
  "language_info": {
   "codemirror_mode": {
    "name": "ipython",
    "version": 3
   },
   "file_extension": ".py",
   "mimetype": "text/x-python",
   "name": "python",
   "nbconvert_exporter": "python",
   "pygments_lexer": "ipython3",
   "version": "3.12.7"
  }
 },
 "nbformat": 4,
 "nbformat_minor": 5
}
